{
 "cells": [
  {
   "cell_type": "markdown",
   "id": "12d63938",
   "metadata": {},
   "source": [
    "\n",
    "# Resolución del Ejercicio 4: Método de Escalada Simple y Máxima Pendiente\n",
    "\n",
    "Este notebook resuelve el ejercicio de la imagen proporcionada utilizando dos algoritmos de búsqueda heurística: **Escalada Simple** y **Escalada por Máxima Pendiente**.\n",
    "\n",
    "## Contexto del problema\n",
    "Dado un grafo con valores heurísticos asociados, debemos encontrar un camino desde un nodo inicial (`A`) hacia uno de los nodos solución (`L` o `Z`) usando ambos métodos.\n",
    "\n",
    "**Consideraciones:**\n",
    "- Los nodos `L` y `Z` son solución al problema.\n",
    "- Cuanto mayor sea el valor heurístico, más \"deseable\" es el nodo.\n",
    "- Los nodos se recorren de izquierda a derecha.\n",
    "\n",
    "---\n",
    "\n",
    "A continuación, se explican los pasos realizados para resolver el problema.\n"
   ]
  },
  {
   "cell_type": "markdown",
   "id": "ba33969e",
   "metadata": {},
   "source": [
    "---\n",
    "### Instalación de Dependencias\n",
    "Para poder trabajar con las bibliotecas necesarias, primero debemos instalar `networkx`. Ejecuta el siguiente comando:"
   ]
  },
  {
   "cell_type": "code",
   "execution_count": 1,
   "id": "11162b0d",
   "metadata": {},
   "outputs": [
    {
     "name": "stdout",
     "output_type": "stream",
     "text": [
      "Defaulting to user installation because normal site-packages is not writeable\n",
      "Requirement already satisfied: networkx in c:\\users\\j2a0a\\appdata\\local\\packages\\pythonsoftwarefoundation.python.3.12_qbz5n2kfra8p0\\localcache\\local-packages\\python312\\site-packages (3.4.2)\n",
      "Note: you may need to restart the kernel to use updated packages.\n"
     ]
    },
    {
     "name": "stderr",
     "output_type": "stream",
     "text": [
      "\n",
      "[notice] A new release of pip is available: 24.1 -> 24.3.1\n",
      "[notice] To update, run: C:\\Users\\j2a0a\\AppData\\Local\\Microsoft\\WindowsApps\\PythonSoftwareFoundation.Python.3.12_qbz5n2kfra8p0\\python.exe -m pip install --upgrade pip\n"
     ]
    }
   ],
   "source": [
    "pip install networkx"
   ]
  },
  {
   "cell_type": "markdown",
   "id": "3a482e50",
   "metadata": {},
   "source": [
    "---\n",
    "\n",
    "### Importación de Bibliotecas\n",
    "En este paso, importamos las bibliotecas necesarias y realizamos una limpieza opcional de la consola para mayor claridad."
   ]
  },
  {
   "cell_type": "code",
   "execution_count": 2,
   "id": "a2c7850b",
   "metadata": {},
   "outputs": [
    {
     "data": {
      "text/plain": [
       "0"
      ]
     },
     "execution_count": 2,
     "metadata": {},
     "output_type": "execute_result"
    }
   ],
   "source": [
    "\n",
    "# Importar bibliotecas necesarias\n",
    "import networkx as nx\n",
    "import matplotlib.pyplot as plt\n",
    "import os\n",
    "\n",
    "# Limpiar consola (opcional para ejecución en terminal)\n",
    "os.system('cls' if os.name == 'nt' else 'clear')\n"
   ]
  },
  {
   "cell_type": "markdown",
   "id": "7b7f56fd",
   "metadata": {},
   "source": [
    "---\n",
    "\n",
    "### Definición de Algoritmos de Búsqueda\n",
    "A continuación, definimos dos algoritmos: **Escalada por Máxima Pendiente** y **Escalada Simple**. Estos se utilizarán para encontrar caminos óptimos en el grafo."
   ]
  },
  {
   "cell_type": "code",
   "execution_count": 3,
   "id": "4646cca2",
   "metadata": {},
   "outputs": [],
   "source": [
    "\n",
    "def escalada_por_maxima_pendiente(grafo, inicio, nodos_finales):\n",
    "    nodo_actual = inicio\n",
    "    camino_actual = [nodo_actual]\n",
    "    peso_actual = 0\n",
    "    \n",
    "    while True:\n",
    "        # Obtener los vecinos del nodo actual\n",
    "        vecinos = list(grafo.neighbors(nodo_actual))\n",
    "        \n",
    "        # Evaluar las opciones basadas en el peso de los bordes\n",
    "        opciones = []\n",
    "        for vecino in vecinos:\n",
    "            if vecino not in camino_actual:  # Evitar ciclos\n",
    "                peso_borde = grafo[nodo_actual][vecino].get('weight', 1)\n",
    "                opciones.append((vecino, peso_borde))\n",
    "        \n",
    "        if not opciones:\n",
    "            # No hay vecinos disponibles, detenerse\n",
    "            break\n",
    "        \n",
    "        # Elegir el vecino con el mayor peso de borde\n",
    "        mejor_opcion = max(opciones, key=lambda x: x[1])\n",
    "        siguiente_nodo, siguiente_peso = mejor_opcion\n",
    "        \n",
    "        # Si el siguiente nodo es uno de los finales, detenerse\n",
    "        if siguiente_nodo in nodos_finales:\n",
    "            camino_actual.append(siguiente_nodo)\n",
    "            peso_actual += siguiente_peso\n",
    "            break\n",
    "        \n",
    "        # Si el borde tiene peso infinito, detenerse\n",
    "        if siguiente_peso == float('inf'):\n",
    "            break\n",
    "        \n",
    "        # Actualizar el estado actual\n",
    "        camino_actual.append(siguiente_nodo)\n",
    "        peso_actual += siguiente_peso\n",
    "        nodo_actual = siguiente_nodo\n",
    "\n",
    "    return camino_actual, peso_actual\n",
    "\n",
    "def escalada(grafo, inicio, nodos_finales):\n",
    "    nodo_actual = inicio\n",
    "    camino_actual = [nodo_actual]\n",
    "    peso_actual = 0\n",
    "    \n",
    "    while True:\n",
    "        # Obtener los vecinos del nodo actual\n",
    "        vecinos = list(grafo.neighbors(nodo_actual))\n",
    "        \n",
    "        # Evaluar las opciones basadas en el peso de los bordes\n",
    "        opciones = []\n",
    "        for vecino in vecinos:\n",
    "            if vecino not in camino_actual:  # Evitar ciclos\n",
    "                peso_borde = grafo[nodo_actual][vecino].get('weight', 1)\n",
    "                opciones.append((vecino, peso_borde))\n",
    "        \n",
    "        if not opciones:\n",
    "            # No hay vecinos disponibles, detenerse\n",
    "            break\n",
    "        \n",
    "        # Elegir el vecino con el mayor peso de borde\n",
    "        siguiente_vecino, siguiente_peso = max(opciones, key=lambda x: x[1])\n",
    "        \n",
    "        # Si el siguiente nodo es uno de los finales, detenerse\n",
    "        if siguiente_vecino in nodos_finales:\n",
    "            camino_actual.append(siguiente_vecino)\n",
    "            peso_actual += siguiente_peso\n",
    "            break\n",
    "        \n",
    "        # Si el borde tiene peso infinito, detenerse\n",
    "        if siguiente_peso == float('inf'):\n",
    "            break\n",
    "        \n",
    "        # Actualizar el estado actual\n",
    "        camino_actual.append(siguiente_vecino)\n",
    "        peso_actual += siguiente_peso\n",
    "        nodo_actual = siguiente_vecino\n",
    "\n",
    "    return camino_actual, peso_actual\n"
   ]
  },
  {
   "cell_type": "markdown",
   "id": "bf076a3c",
   "metadata": {},
   "source": [
    "---\n",
    "\n",
    "### Creación del Grafo\n",
    "Aquí se construye el grafo con los nodos y los bordes definidos, junto con sus pesos."
   ]
  },
  {
   "cell_type": "code",
   "execution_count": 4,
   "id": "56862dba",
   "metadata": {},
   "outputs": [],
   "source": [
    "\n",
    "# Creación del grafo basado en el problema\n",
    "\n",
    "grafo = nx.Graph()\n",
    "\n",
    "edges = [\n",
    "    (\"A\", \"D\", 1),\n",
    "    (\"A\", \"Q\", 3),\n",
    "    (\"A\", \"G\", 2),\n",
    "    (\"D\", \"B\", 3),\n",
    "    (\"D\", \"J\", 4),\n",
    "    (\"Q\", \"C\", 4),\n",
    "    (\"Q\", \"E\", 6),\n",
    "    (\"C\", \"W\", 8),\n",
    "    (\"C\", \"P\", 4),\n",
    "    (\"E\", \"Z\", float('inf')),\n",
    "    (\"E\", \"F\", 6),\n",
    "    (\"J\", \"H\", 4),\n",
    "    (\"J\", \"K\", 5),\n",
    "    (\"K\", \"L\", float('inf')),\n",
    "]\n",
    "\n",
    "grafo.add_weighted_edges_from(edges)\n",
    "\n",
    "# Definir posiciones manuales para los nodos\n",
    "pos = {\n",
    "    \"A\": (0, 5),\n",
    "    \"D\": (-3, 4),\n",
    "    \"Q\": (0, 4),\n",
    "    \"G\": (3, 4),\n",
    "    \"B\": (-4, 3),\n",
    "    \"J\": (-2, 3),\n",
    "    \"C\": (-1, 3),\n",
    "    \"E\": (2, 3),\n",
    "    \"H\": (-4, 2),\n",
    "    \"K\": (-2, 2),\n",
    "    \"L\": (-1, 1),\n",
    "    \"W\": (-1, 2),\n",
    "    \"P\": (0, 2),\n",
    "    \"Z\": (2, 2),\n",
    "    \"F\": (3, 2),\n",
    "}\n"
   ]
  },
  {
   "cell_type": "markdown",
   "id": "fc150171",
   "metadata": {},
   "source": [
    "---\n",
    "\n",
    "### Ejecución de los Algoritmos\n",
    "Ahora probamos los algoritmos de búsqueda definidos anteriormente en el grafo."
   ]
  },
  {
   "cell_type": "code",
   "execution_count": 5,
   "id": "29cd2077",
   "metadata": {},
   "outputs": [
    {
     "name": "stdout",
     "output_type": "stream",
     "text": [
      "Escalada Simple:\n",
      "Camino encontrado: ['A', 'Q', 'E', 'Z']\n",
      "Peso total del camino: inf\n",
      "\n",
      "Escalada por Máxima Pendiente:\n",
      "Camino encontrado: ['A', 'Q', 'E', 'Z']\n",
      "Peso total del camino: inf\n"
     ]
    }
   ],
   "source": [
    "\n",
    "# Ejecutar los algoritmos desde el nodo inicial 'A' hacia los nodos finales 'L' y 'Z'\n",
    "\n",
    "start_node = \"A\"\n",
    "end_nodes = {\"Z\", \"L\"}\n",
    "\n",
    "print(\"Escalada Simple:\")\n",
    "path, weight = escalada(grafo, start_node, end_nodes)\n",
    "print(\"Camino encontrado:\", path)\n",
    "print(\"Peso total del camino:\", weight)\n",
    "\n",
    "print(\"\\nEscalada por Máxima Pendiente:\")\n",
    "path, weight = escalada_por_maxima_pendiente(grafo, start_node, end_nodes)\n",
    "print(\"Camino encontrado:\", path)\n",
    "print(\"Peso total del camino:\", weight)\n"
   ]
  },
  {
   "cell_type": "markdown",
   "id": "bd2001ab",
   "metadata": {},
   "source": [
    "---\n",
    "\n",
    "### Visualización del Grafo\n",
    "Por último, mostramos el grafo con sus pesos utilizando `matplotlib`."
   ]
  },
  {
   "cell_type": "code",
   "execution_count": 6,
   "id": "0f409a5d",
   "metadata": {},
   "outputs": [
    {
     "data": {
      "image/png": "[encoded data removed]",
      "text/plain": [
       "<Figure size 640x480 with 1 Axes>"
      ]
     },
     "metadata": {},
     "output_type": "display_data"
    }
   ],
   "source": [
    "\n",
    "# Dibujar el grafo con pesos de los bordes\n",
    "nx.draw(grafo, pos, with_labels=True, node_color=\"lightblue\", node_size=1000, font_size=10)\n",
    "weights = nx.get_edge_attributes(grafo, 'weight')\n",
    "nx.draw_networkx_edge_labels(grafo, pos, edge_labels=weights)\n",
    "plt.show()\n"
   ]
  }
 ],
 "metadata": {
  "kernelspec": {
   "display_name": "Python 3",
   "language": "python",
   "name": "python3"
  },
  "language_info": {
   "codemirror_mode": {
    "name": "ipython",
    "version": 3
   },
   "file_extension": ".py",
   "mimetype": "text/x-python",
   "name": "python",
   "nbconvert_exporter": "python",
   "pygments_lexer": "ipython3",
   "version": "3.12.7"
  }
 },
 "nbformat": 4,
 "nbformat_minor": 5
}
